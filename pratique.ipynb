{
  "nbformat": 4,
  "nbformat_minor": 0,
  "metadata": {
    "colab": {
      "provenance": [],
      "authorship_tag": "ABX9TyPS8IGPZCseitfEjq5yVx+x",
      "include_colab_link": true
    },
    "kernelspec": {
      "name": "python3",
      "display_name": "Python 3"
    },
    "language_info": {
      "name": "python"
    }
  },
  "cells": [
    {
      "cell_type": "markdown",
      "metadata": {
        "id": "view-in-github",
        "colab_type": "text"
      },
      "source": [
        "<a href=\"https://colab.research.google.com/github/igorrodriguessp/Exercicio-ebac/blob/main/pratique.ipynb\" target=\"_parent\"><img src=\"https://colab.research.google.com/assets/colab-badge.svg\" alt=\"Open In Colab\"/></a>"
      ]
    },
    {
      "cell_type": "code",
      "execution_count": null,
      "metadata": {
        "id": "QgoPgzr_DTZW"
      },
      "outputs": [],
      "source": [
        "#Pergunta 1\n",
        "Linguagens compiladas (C, C++, Rust) traduzem o código todo de uma vez para código de máquina antes da execução, sendo mais rápidas.\n",
        "Já linguagens interpretadas (Python, JavaScript) executam o código linha por linha, em tempo real, o que pode ser mais lento.\n",
        "\n",
        "#Pergunta 2\n",
        "\n",
        "IDE: Oferece autocompletar, debugging avançado e integração com ferramentas, mas consome mais recursos e exige configuração.\n",
        "\n",
        "Terminal: É leve e direto, ideal para scripts simples e tarefas rápidas, mas carece de recursos avançados.\n",
        "\n",
        "#Pergunta 3\n",
        "\n",
        "Compilador: Traduz todo o código-fonte para código de máquina antes da execução, gerando um arquivo executável.\n",
        "\n",
        "Interpretador: Executa o código linha por linha em tempo real, sem gerar um arquivo executável prévio.\n",
        "\n",
        "#Pergunta 4\n",
        "\n",
        "Jupyter Notebook: Interativo, ótimo para experimentação e visualização de dados.\n",
        "\n",
        "PyCharm: IDE completa, ideal para projetos grandes, com autocompletar e debugging avançado.\n"
      ]
    }
  ]
}